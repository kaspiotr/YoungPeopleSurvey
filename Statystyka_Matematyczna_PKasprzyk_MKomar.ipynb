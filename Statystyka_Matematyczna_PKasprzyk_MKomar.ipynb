{
 "cells": [
  {
   "cell_type": "markdown",
   "metadata": {
    "slideshow": {
     "slide_type": "-"
    }
   },
   "source": [
    "# Analiza ankiety przeprowadzonej wśród młodych Słowaków \n",
    "\n",
    "### Analiza danych z ankiety odnośnie cech, preferencji, zainteresowań, zwyczajów, opinii i obaw młodych ludzi z uwzględnieniem tego czy respondent żyje na wsi czy w mieście oraz przeanalizowanie spożycia alkoholu wśród respondentów\n",
    "\n",
    "##### Zaczniemy od analizy naszego zbioru daych, aby uzyskać pewne informacje na jego temat:"
   ]
  },
  {
   "cell_type": "code",
   "execution_count": null,
   "metadata": {
    "slideshow": {
     "slide_type": "slide"
    }
   },
   "outputs": [],
   "source": [
    "import csv\n",
    "import matplotlib.pyplot as plt\n",
    "import pandas as pd\n",
    "import seaborn as sns\n",
    "from utils.math_functions import median, mean, stddev\n",
    "\n",
    "%matplotlib inline\n",
    "\n",
    "response_no = []\n",
    "responders_ages = []\n",
    "responders_heights = []\n",
    "responders_weights = []\n",
    "\n",
    "\n",
    "def read_age_from_csv():\n",
    "    with open('resources/young-people-survey/responses.csv') as csv_file:\n",
    "        read_csv = csv.reader(csv_file, delimiter=',')\n",
    "        headers = []\n",
    "        headers_read = False\n",
    "        response_idx = 0\n",
    "        for row in read_csv:\n",
    "            if not headers_read:\n",
    "                headers = row\n",
    "                headers_read = True\n",
    "                continue\n",
    "            response_no.append(response_idx)\n",
    "            try:\n",
    "                responders_ages.append(int(row[headers.index(\"Age\")]))\n",
    "                responders_heights.append(int(row[headers.index(\"Height\")]))\n",
    "                responders_weights.append(int(row[headers.index(\"Weight\")]))\n",
    "            except ValueError:\n",
    "                pass\n",
    "            response_idx += 1\n",
    "\n",
    "read_age_from_csv()\n",
    "df = pd.read_csv('resources/young-people-survey/responses.csv')\n",
    "df.head(2)"
   ]
  },
  {
   "cell_type": "code",
   "execution_count": null,
   "metadata": {
    "slideshow": {
     "slide_type": "slide"
    }
   },
   "outputs": [],
   "source": [
    "df.describe()"
   ]
  },
  {
   "cell_type": "markdown",
   "metadata": {
    "slideshow": {
     "slide_type": "slide"
    }
   },
   "source": [
    "##### Podstawowe wielkości statystyczne opisujące wiek respondentów:"
   ]
  },
  {
   "cell_type": "code",
   "execution_count": null,
   "metadata": {
    "slideshow": {
     "slide_type": "slide"
    }
   },
   "outputs": [],
   "source": [
    "print(\"Average responder age is %f\" % mean(responders_ages))\n",
    "print(\"Median of responders age is %d\" % median(responders_ages))\n",
    "print(\"Standard deviation of responders age is %f\" % stddev(responders_ages))"
   ]
  },
  {
   "cell_type": "markdown",
   "metadata": {
    "slideshow": {
     "slide_type": "slide"
    }
   },
   "source": [
    "Wykres pudełkowy opisujący wiek respondentów:"
   ]
  },
  {
   "cell_type": "code",
   "execution_count": null,
   "metadata": {
    "slideshow": {
     "slide_type": "slide"
    }
   },
   "outputs": [],
   "source": [
    "def show_responders_box_plot(data, ylabel):\n",
    "    data_median = median(data)\n",
    "    sub_data_Q1 = list(filter(lambda x: x < data_median, data))\n",
    "    sub_data_Q3 = list(filter(lambda x: x > data_median, data))\n",
    "    Q1 = median(sub_data_Q1)\n",
    "    Q3 = median(sub_data_Q3)\n",
    "    IQR = Q3 - Q1\n",
    "    flier_low = max(min(data), Q1 - 1.5 * IQR)\n",
    "    flier_high = max(min(data), Q3 + 1.5 * IQR)\n",
    "    fig, ax = plt.subplots()\n",
    "    ax.boxplot(data, showfliers=True)\n",
    "    plt.hlines(y=[flier_high, mean(data), Q1, Q3, data_median, flier_low], xmin=0, xmax=1, colors='k',\n",
    "               linestyles='dashed')\n",
    "    plt.yticks([flier_high, Q1, Q3, mean(data), data_median, flier_low])\n",
    "    plt.ylabel(ylabel)\n",
    "    plt.show()\n",
    "\n",
    "show_responders_box_plot(responders_ages, \"age\")"
   ]
  },
  {
   "cell_type": "markdown",
   "metadata": {},
   "source": [
    "Histogram wieku respondentów:"
   ]
  },
  {
   "cell_type": "code",
   "execution_count": null,
   "metadata": {},
   "outputs": [],
   "source": [
    "def show_responders_histogram(data, label, lower_bound, upper_bound, bin_count=plt.rcParams[\"hist.bins\"]):\n",
    "    plt.title(\"Responders \" + label + \" histogram\")\n",
    "    plt.xlabel(label)\n",
    "    if label == \"age\":\n",
    "        plt.ylabel(\"number of responders at specified age\")\n",
    "    else:\n",
    "        plt.ylabel(\"number of responders with specified \" + label)\n",
    "    plt.hist(data, bins=bin_count, range=(lower_bound, upper_bound))\n",
    "    plt.show()\n",
    "   \n",
    "show_responders_histogram(responders_ages, \"age\", 15, 30, 40)"
   ]
  },
  {
   "cell_type": "markdown",
   "metadata": {},
   "source": [
    "##### Podstawowe wielkości statystyczne opisujące wzrost respondentów:"
   ]
  },
  {
   "cell_type": "code",
   "execution_count": null,
   "metadata": {},
   "outputs": [],
   "source": [
    "print(\"Average responder height is %f\" % mean(responders_heights))\n",
    "print(\"Median of responders height is %d\" % median(responders_heights))\n",
    "print(\"Standard deviation of responders height is %f\" % stddev(responders_heights))"
   ]
  },
  {
   "cell_type": "markdown",
   "metadata": {},
   "source": [
    "Wykres pudełkowy opisujący wzrost reszpondentów:"
   ]
  },
  {
   "cell_type": "code",
   "execution_count": null,
   "metadata": {},
   "outputs": [],
   "source": [
    "def show_responders_box_plot(data, ylabel):\n",
    "    data_median = median(data)\n",
    "    sub_data_Q1 = list(filter(lambda x: x < data_median, data))\n",
    "    sub_data_Q3 = list(filter(lambda x: x > data_median, data))\n",
    "    Q1 = median(sub_data_Q1)\n",
    "    Q3 = median(sub_data_Q3)\n",
    "    IQR = Q3 - Q1\n",
    "    flier_low = max(min(data), Q1 - 1.5 * IQR)\n",
    "    flier_high = max(min(data), Q3 + 1.5 * IQR)\n",
    "    fig, ax = plt.subplots()\n",
    "    ax.boxplot(data, showfliers=True)\n",
    "    plt.hlines(y=[flier_high, mean(data), Q1, Q3, data_median, flier_low], xmin=0, xmax=1, colors='k',\n",
    "               linestyles='dashed')\n",
    "    plt.yticks([flier_high, Q1, Q3, mean(data), data_median, flier_low])\n",
    "    plt.ylabel(ylabel)\n",
    "    plt.show()\n",
    "\n",
    "show_responders_box_plot(responders_heights, \"height\")"
   ]
  },
  {
   "cell_type": "markdown",
   "metadata": {},
   "source": [
    "Histogram wzrostu respondentów:"
   ]
  },
  {
   "cell_type": "code",
   "execution_count": null,
   "metadata": {},
   "outputs": [],
   "source": [
    "def show_responders_histogram(data, label, lower_bound, upper_bound, bin_count=plt.rcParams[\"hist.bins\"]):\n",
    "    plt.title(\"Responders \" + label + \" histogram\")\n",
    "    plt.xlabel(label)\n",
    "    if label == \"age\":\n",
    "        plt.ylabel(\"number of responders at specified age\")\n",
    "    else:\n",
    "        plt.ylabel(\"number of responders with specified \" + label)\n",
    "    plt.hist(data, bins=bin_count, range=(lower_bound, upper_bound))\n",
    "    plt.show()\n",
    "    \n",
    "show_responders_histogram(responders_heights, \"height\", 60, 205, 80)"
   ]
  },
  {
   "cell_type": "markdown",
   "metadata": {},
   "source": [
    "##### Podtsawowe wielkości statystyczne opisujące wagę respondentów"
   ]
  },
  {
   "cell_type": "code",
   "execution_count": null,
   "metadata": {},
   "outputs": [],
   "source": [
    "print(\"Average responder weight is %f\" % mean(responders_weights))\n",
    "print(\"Median of responders weight is %d\" % median(responders_weights))\n",
    "print(\"Standard deviation of responders weight is %f\" % stddev(responders_weights))"
   ]
  },
  {
   "cell_type": "markdown",
   "metadata": {},
   "source": [
    "Wykres pudełkowy opisujący wagę respondentów:"
   ]
  },
  {
   "cell_type": "code",
   "execution_count": null,
   "metadata": {},
   "outputs": [],
   "source": [
    "def show_responders_box_plot(data, ylabel):\n",
    "    data_median = median(data)\n",
    "    sub_data_Q1 = list(filter(lambda x: x < data_median, data))\n",
    "    sub_data_Q3 = list(filter(lambda x: x > data_median, data))\n",
    "    Q1 = median(sub_data_Q1)\n",
    "    Q3 = median(sub_data_Q3)\n",
    "    IQR = Q3 - Q1\n",
    "    flier_low = max(min(data), Q1 - 1.5 * IQR)\n",
    "    flier_high = max(min(data), Q3 + 1.5 * IQR)\n",
    "    fig, ax = plt.subplots()\n",
    "    ax.boxplot(data, showfliers=True)\n",
    "    plt.hlines(y=[flier_high, mean(data), Q1, Q3, data_median, flier_low], xmin=0, xmax=1, colors='k',\n",
    "               linestyles='dashed')\n",
    "    plt.yticks([flier_high, Q1, Q3, mean(data), data_median, flier_low])\n",
    "    plt.ylabel(ylabel)\n",
    "    plt.show()\n",
    "    \n",
    "show_responders_box_plot(responders_weights, \"weight\")"
   ]
  },
  {
   "cell_type": "markdown",
   "metadata": {},
   "source": [
    "Histogram wagi respondentów:"
   ]
  },
  {
   "cell_type": "code",
   "execution_count": null,
   "metadata": {},
   "outputs": [],
   "source": [
    "def show_responders_histogram(data, label, lower_bound, upper_bound, bin_count=plt.rcParams[\"hist.bins\"]):\n",
    "    plt.title(\"Responders \" + label + \" histogram\")\n",
    "    plt.xlabel(label)\n",
    "    if label == \"age\":\n",
    "        plt.ylabel(\"number of responders at specified age\")\n",
    "    else:\n",
    "        plt.ylabel(\"number of responders with specified \" + label)\n",
    "    plt.hist(data, bins=bin_count, range=(lower_bound, upper_bound))\n",
    "    plt.show()\n",
    "    \n",
    "show_responders_histogram(responders_weights, \"weight\", 45, 170, 40)    "
   ]
  },
  {
   "cell_type": "markdown",
   "metadata": {},
   "source": [
    "#### Brakujące wartości:\n",
    "\n",
    "Brakujące wartości są problematyczne, ponieważ nie wiemy, co było przyczyną tego, że respondenci nie wypełnili danego pola w ankiencie. Możliwe także, że braki pewnych wartości były wynikiem tego, że np. niektóre dane nie zostały przeniesione z ankiety do formularza cyfrowego."
   ]
  },
  {
   "cell_type": "code",
   "execution_count": null,
   "metadata": {},
   "outputs": [],
   "source": [
    "def display_missing_values(df):\n",
    "    nulls = df.isnull().sum().sort_values(ascending=False)\n",
    "    nulls.plot(kind='bar', figsize=(23, 5))\n",
    "    plt.show()\n",
    "    \n",
    "display_missing_values(df)"
   ]
  },
  {
   "cell_type": "code",
   "execution_count": null,
   "metadata": {},
   "outputs": [],
   "source": [
    "def display_missing_values_info(df):\n",
    "    print('Number of girls who omitted weight field: {:.0f}'.format(\n",
    "        df[df['Gender'] == 'female']['Weight'].isnull().sum()))\n",
    "    print('Number of boys who omitted weight field: {:.0f}'.format(\n",
    "        df[df['Gender'] == 'male']['Weight'].isnull().sum()))\n",
    "    print('Number of girls who omitted height field: {:.0f}'.format(\n",
    "        df[df['Gender'] == 'female']['Height'].isnull().sum()))\n",
    "    print('Number of boys who omitted height field: {:.0f}'.format(\n",
    "        df[df['Gender'] == 'male']['Height'].isnull().sum()))\n",
    "    \n",
    "display_missing_values_info(df)"
   ]
  },
  {
   "cell_type": "markdown",
   "metadata": {},
   "source": [
    "Powyższe dane wyglądają podejrzanie. W treści opisującej zbiór danych możemy znaleźć fragment: \"In 2013, students of the Statistics class at FSEV UK were asked to invite their **friends** to participate in this survey.\". Można zatem postawić hipotezę, iż młodzi słowaccy respondenci, wiedząc, że ich dane będą potem analizowane przez ich **przyjaciół**, nie dostarczyli takich danych jak waga, wiek czy wzrost, w obawie, że mogliby zostać przez swoich znajomych zidentyfikowani. Przyjrzymy się zatem im bliżej tym danym i spróbujmy zweryfikować tę hipotezę."
   ]
  },
  {
   "cell_type": "code",
   "execution_count": null,
   "metadata": {},
   "outputs": [],
   "source": [
    "def display_missing_values_further_info(df):\n",
    "    omitted = df[(df['Weight'].isnull()) | df['Height'].isnull()]\n",
    "    print('Number of people with omitted Weight or Height: {:.0f}'.format(omitted.shape[0]))\n",
    "    nas = omitted.drop(['Weight', 'Height', 'Number of siblings', 'Age'], 1).isnull().sum().sum()\n",
    "    print('Number of fields that were omitted by people who did not fill Weight or Height: {:.0f}'.format(nas))\n",
    "    \n",
    "display_missing_values_further_info(df)"
   ]
  },
  {
   "cell_type": "markdown",
   "metadata": {},
   "source": [
    "Zauważmy, że Ci repondenci, którzy pominęli w ankiecie takie pola jak waga, wiek, wzrost lub liczbę posiadanego rodzeństwa pominęli także 18 innych pól w ankiecie, co może świadczyć o słyszności postawionej wcześniej hipotezy co do obawy respondentów przed identyfikacją przez znajomych. W dalszej części przypiszemy brakujące wartości."
   ]
  },
  {
   "cell_type": "markdown",
   "metadata": {},
   "source": [
    "Analizowany przez na zbiór danych pozwala na zdefiniowanie wielu celów analizy danych. Z tego względu spojrzeliśmy na dane pod takim kątem, aby podjąć próbę wskazania różnic i podobieńst pomiędzy życiem w mieście a życiem na wsi (bazując na odpowiedziach respondentów). \n",
    "Z tego powodu **opuścimy rekordy, które nie mają wartości w kolumnie o nazwie \"Village - town\"**."
   ]
  },
  {
   "cell_type": "code",
   "execution_count": null,
   "metadata": {},
   "outputs": [],
   "source": [
    "def drop_rows_without_values_and_display_village_vs_city_stats(column_name, df):\n",
    "    interesting_var = column_name\n",
    "    mapping = {interesting_var: {'city': 0, 'village': 1}}\n",
    "    df.dropna(subset=[interesting_var], inplace=True)\n",
    "    # to have ability to use hue parameter in seaborn for better comparison\n",
    "    df[\"all\"] = \"\"\n",
    "    fig, ax = plt.subplots(nrows=1, ncols=2, figsize=(15, 5))\n",
    "    sns.countplot(y=interesting_var, data=df, ax=ax[0])\n",
    "    sns.countplot(y=interesting_var, hue='Gender', data=df, ax=ax[1])\n",
    "    plt.xticks(fontsize=14)\n",
    "    plt.yticks(fontsize=14)\n",
    "    plt.show()\n",
    "    return interesting_var\n",
    "\n",
    "interesting_var = drop_rows_without_values_and_display_village_vs_city_stats('Village - town', df)"
   ]
  },
  {
   "cell_type": "markdown",
   "metadata": {},
   "source": [
    "Jak widzimy, powyższe klasy są bardzo niezbalansowane (przeszło dwa razy więcej respondentów mieszkało w mieście). Gdybyśmy przygotowywali dane pod zbiór testowy i treningowy do jakiegoś algorytmu ML, to ów brak balansu może być problematyczny."
   ]
  },
  {
   "cell_type": "markdown",
   "metadata": {},
   "source": [
    "#### Dane odstające\n",
    "\n",
    "Zwróćmy w tym miejscu uwagę, czy występują jakieś różnice pod względem wagi, wzrostu czy wieku pomiędzy respondentami zamieszkującymi wieś i miasto. "
   ]
  },
  {
   "cell_type": "code",
   "execution_count": null,
   "metadata": {},
   "outputs": [],
   "source": [
    "def city_vs_village_height_weight_age_comparison(df, interesting_var):\n",
    "    fig, ax = plt.subplots(nrows=1, ncols=3, figsize=(20, 5))\n",
    "    data = df.dropna(subset=['Height'])\n",
    "    sns.violinplot(x='Height', y=\"all\", hue=interesting_var, data=data, split=True, ax=ax[0]);\n",
    "    data = df.dropna(subset=['Weight'])\n",
    "    sns.violinplot(x='Weight', y=\"all\", hue=interesting_var, data=data, split=True, ax=ax[1]);\n",
    "    interesting_var_ser = df[interesting_var]\n",
    "    sns.distplot(df[interesting_var_ser == 'village'].Age.dropna(),\n",
    "                 label='village', ax=ax[2], kde=False, bins=30)\n",
    "    sns.distplot(df[interesting_var_ser == 'city'].Age.dropna(),\n",
    "                 label='city', ax=ax[2], kde=False, bins=30)\n",
    "    ax[2].legend()\n",
    "    plt.show()\n",
    "    \n",
    "city_vs_village_height_weight_age_comparison(df, interesting_var)"
   ]
  },
  {
   "cell_type": "markdown",
   "metadata": {},
   "source": [
    "Jak możemy zaobserwować występują pewne dane odstające, które zaburzają wizualizacje."
   ]
  },
  {
   "cell_type": "code",
   "execution_count": null,
   "metadata": {
    "scrolled": true
   },
   "outputs": [],
   "source": [
    "def some_outliers_display(df, interesting_var):\n",
    "    display(df[df['Height'] < 65][['Age', 'Height', 'Weight', 'Gender', interesting_var]])\n",
    "    print()\n",
    "    display(df[df['Weight'] > 115][['Age', 'Height', 'Weight', 'Gender', interesting_var]])\n",
    "    \n",
    "some_outliers_display(df, interesting_var)"
   ]
  },
  {
   "cell_type": "markdown",
   "metadata": {},
   "source": [
    "Analizując powyższe tabele, należy także poważnie rozważyć hipotezę, że respondenci mogli pomylić rubryki i wpisać w pole 'Height' swoją wagę a w pole 'Weight' wpisać wzrost. Przykładowo **pozycja o indeksie 885 w drugiej z tabel nie zawiera wartości w polu 'Height' i zawiera wartość 165 kg w polu 'Weight'**, co może wskazywać na to, że kobieta wypełniająca ankietę omyłkowo wpisała swój wzrost w rubryce, w której powinna wpisać wagę.\n",
    "\n",
    "Zaprezentowane dane odstające zostaną wykluczone z dalszej analizy."
   ]
  },
  {
   "cell_type": "code",
   "execution_count": null,
   "metadata": {},
   "outputs": [],
   "source": [
    "def drop_outliers(df):\n",
    "    df.drop([676, 292, 793, 859, 885, 973, 992], inplace=True)\n",
    "    \n",
    "drop_outliers(df)"
   ]
  },
  {
   "cell_type": "code",
   "execution_count": null,
   "metadata": {},
   "outputs": [],
   "source": [
    "def city_vs_village_height_weight_age_comparison_after_outliers_drop(df, interesting_var):\n",
    "    fig, ax = plt.subplots(nrows=1, ncols=2, figsize=(12, 5))\n",
    "    data = df.dropna(subset=['Height'])\n",
    "    sns.violinplot(x='Height', y=\"all\", hue=interesting_var, data=data,\n",
    "                   split=True, ax=ax[0], inner='quartile')\n",
    "\n",
    "    data = df.dropna(subset=['Weight'])\n",
    "    sns.violinplot(x='Weight', y=\"all\", hue=interesting_var, data=data,\n",
    "                   split=True, ax=ax[1], inner='quartile')\n",
    "    \n",
    "city_vs_village_height_weight_age_comparison_after_outliers_drop(df, interesting_var)"
   ]
  },
  {
   "cell_type": "markdown",
   "metadata": {},
   "source": [
    "Linie horyzontalne na powyższych wykresach oznaczają kwartyle."
   ]
  },
  {
   "cell_type": "markdown",
   "metadata": {},
   "source": [
    "#### Analiza spożycia alkoholu\n",
    "\n",
    "Korzystając z dostępnych nam narzędzi możemy zbadać, jaka jest deklarowana ilośc spożywanego alkoholu w zależności od wieku respondentów"
   ]
  },
  {
   "cell_type": "code",
   "execution_count": null,
   "metadata": {},
   "outputs": [],
   "source": [
    "import csv\n",
    "import matplotlib.pylab as plt\n",
    "\n",
    "\n",
    "def alcohol_consumption():\n",
    "    with open('resources/young-people-survey/responses.csv') as csv_file:\n",
    "        read_csv = csv.reader(csv_file, delimiter=',')\n",
    "        headers = []\n",
    "        headers_read = False\n",
    "        heavy_drinkers = []\n",
    "        social_drinkers = []\n",
    "        non_drinkers = []\n",
    "\n",
    "        heavy_drinkers_by_age = dict()\n",
    "        total_by_age = dict()\n",
    "        percentage_of_heavy_drinkers = []\n",
    "\n",
    "        for i in range(15, 31):\n",
    "            heavy_drinkers_by_age[i] = 0\n",
    "            total_by_age[i] = 0\n",
    "\n",
    "        for row in read_csv:\n",
    "            if not headers_read:\n",
    "                headers = row\n",
    "                headers_read = True\n",
    "                continue\n",
    "\n",
    "            try:\n",
    "                age = int(row[headers.index(\"Age\")])\n",
    "                how_much = row[headers.index(\"Alcohol\")]\n",
    "                if how_much == \"drink a lot\":\n",
    "                    heavy_drinkers.append(age)\n",
    "                    heavy_drinkers_by_age[age] = heavy_drinkers_by_age[age] + 1\n",
    "                if how_much == \"social drinker\":\n",
    "                    social_drinkers.append(age)\n",
    "                if how_much == \"never\":\n",
    "                    non_drinkers.append(age)\n",
    "                total_by_age[age] = total_by_age[age] + 1\n",
    "\n",
    "            except ValueError:\n",
    "                pass\n",
    "\n",
    "        for i in range(15, 31):\n",
    "            percentage_of_heavy_drinkers.append((heavy_drinkers_by_age[i] / total_by_age[i]) * 100)\n",
    "\n",
    "        plt.subplot(231)\n",
    "        plt.xlabel(\"Age\")\n",
    "        plt.title(\"Non drinkers\")\n",
    "        plt.ylim(0, 150)\n",
    "        plt.hist(non_drinkers, 40, range=(15, 30))\n",
    "\n",
    "        plt.subplot(232)\n",
    "        plt.title(\"Social drinkers\")\n",
    "        plt.ylim(0, 150)\n",
    "        plt.hist(social_drinkers, 40, range=(15, 30))\n",
    "\n",
    "        plt.subplot(233)\n",
    "        plt.xlabel(\"Age\")\n",
    "        plt.title(\"Heavy drinkers\")\n",
    "        plt.ylim(0, 150)\n",
    "        plt.hist(heavy_drinkers, 40, range=(15, 30))\n",
    "\n",
    "        plt.subplot(235)\n",
    "        plt.xlabel(\"Age\")\n",
    "        plt.title(\"Percentage of heavy drinkers\")\n",
    "        ages = range(15, 31)\n",
    "        plt.bar(ages, percentage_of_heavy_drinkers)\n",
    "\n",
    "        plt.suptitle(\"Alcohol consumption by age and amount\")\n",
    "\n",
    "        plt.rcParams['figure.figsize'] = [30, 15]\n",
    "        plt.show()\n",
    "\n",
    "\n",
    "alcohol_consumption()"
   ]
  },
  {
   "cell_type": "markdown",
   "metadata": {},
   "source": [
    "Gdy spojrzymy na powyższe wykresy, w szczególnosci wykres mówiący o procencie osób spożywająch dużą ilość alkoholu w zalęzności od grupy wiekowej, możemy wywnioskować, że dla grupy 30-latków aż 40% zadeklarowało spożycie dużej ilości alkoholu. Kolejnym niepokojącym faktem jest to, iż więcej osób zadeklarowało spożycie dużej ilości alkoholu, niż brak jego spożycia."
   ]
  },
  {
   "cell_type": "markdown",
   "metadata": {},
   "source": [
    "#### Analiza próbki z populacji"
   ]
  },
  {
   "cell_type": "code",
   "execution_count": null,
   "metadata": {},
   "outputs": [],
   "source": [
    "import csv\n",
    "import matplotlib.pylab as plt\n",
    "import random\n",
    "import math\n",
    "\n",
    "\n",
    "def sample_test():\n",
    "    with open('resources/young-people-survey/responses.csv') as csv_file:\n",
    "        read_csv = csv.reader(csv_file, delimiter=',')\n",
    "        headers = []\n",
    "        headers_read = False\n",
    "        \n",
    "        heavy_drinkers = 0\n",
    "        total = 0\n",
    "        all_drinkers = []\n",
    "\n",
    "        for row in read_csv:\n",
    "            if not headers_read:\n",
    "                headers = row\n",
    "                headers_read = True\n",
    "                continue\n",
    "\n",
    "            try:\n",
    "                how_much = row[headers.index(\"Alcohol\")]\n",
    "                if how_much == \"drink a lot\":\n",
    "                    heavy_drinkers = heavy_drinkers + 1\n",
    "                all_drinkers.append(how_much)\n",
    "                total = total + 1\n",
    "\n",
    "            except ValueError:\n",
    "                pass\n",
    "\n",
    "        heavy_drinkers_percentage = ( heavy_drinkers / total ) * 100\n",
    "\n",
    "        print(str(heavy_drinkers_percentage) + \"% of responders declared themselves as heavy drinkers\")\n",
    "\n",
    "        sample_size = 100\n",
    "        sample = random.sample(all_drinkers, sample_size)\n",
    "\n",
    "        heavy_drinkers_sample = 0\n",
    "\n",
    "        for how_much in sample:\n",
    "            if how_much == 'drink a lot':\n",
    "                heavy_drinkers_sample = heavy_drinkers_sample + 1\n",
    "\n",
    "        heavy_drinkers_sample_percentage = ( heavy_drinkers_sample / sample_size ) * 100\n",
    "\n",
    "        print(str(heavy_drinkers_sample_percentage) + \"% of responders from the sample (\"+str(sample_size)+\" random responders) declared themselves as heavy drinkers\")\n",
    "\n",
    "        standard_error = math.sqrt( heavy_drinkers_sample_percentage * (100 - heavy_drinkers_sample_percentage)/sample_size)\n",
    "\n",
    "        print(\"Standard error: \" + str(standard_error) + \"%\")\n",
    "\n",
    "        a = heavy_drinkers_sample_percentage - 2 * standard_error\n",
    "        b = heavy_drinkers_sample_percentage + 2 * standard_error\n",
    "\n",
    "        c = heavy_drinkers_sample_percentage - standard_error\n",
    "        d = heavy_drinkers_sample_percentage + standard_error\n",
    "\n",
    "        print(\"We can be 95% sure that between \" + str(a) + \" and \" + str(b) + \" of the total population are heavy drinkers.\")\n",
    "        print(\"We can be 68% sure that between \" + str(c) + \" and \" + str(d) + \" of the total population are heavy drinkers.\")\n",
    "\n",
    "\n",
    "sample_test()"
   ]
  },
  {
   "cell_type": "markdown",
   "metadata": {},
   "source": [
    "##### Wnioski\n",
    "\n",
    "Procentowa ilość osób dużo pijących w całej populacji znajduje się w przedziale ufności wartosci wyliczonej przy użyciu próbki 100 osób."
   ]
  },
  {
   "cell_type": "markdown",
   "metadata": {},
   "source": [
    "### Zbiorcze wnioski z analizy danych\n",
    "* istotne jest aby ankieta była tak skonstruowana, aby respondent nie miał możliwości udzielić odpowiedzi w rubryce, w której powinien zamieścić odpowiedź na inne pytanie -> można tu rozważyć przeprowadzanie ankiety w formie ankiety online, eliminujemy przy tym ewentualne błędy, które mogłyby powstać przy digitalizacji zebranych danych,\n",
    "* jeśli zależy nam na tym aby zebrane dane jak najlepiej oddawały sytuację rzeczywistą respondenci nie mogą mieć cienia wątpliwości, że pozostaną ononimowi (tym bardziej jeśli mają wypełniać ankietę dotyczącą m.in. ich obaw)"
   ]
  }
 ],
 "metadata": {
  "celltoolbar": "Raw Cell Format",
  "kernelspec": {
   "display_name": "Python 3",
   "language": "python",
   "name": "python3"
  },
  "language_info": {
   "codemirror_mode": {
    "name": "ipython",
    "version": 3
   },
   "file_extension": ".py",
   "mimetype": "text/x-python",
   "name": "python",
   "nbconvert_exporter": "python",
   "pygments_lexer": "ipython3",
   "version": "3.7.3"
  }
 },
 "nbformat": 4,
 "nbformat_minor": 2
}

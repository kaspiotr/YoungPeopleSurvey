{
 "cells": [
  {
   "cell_type": "markdown",
   "metadata": {},
   "source": [
    "# Analiza ankiety przeprowadzonej wśród młodych Słowaków \n",
    "\n",
    "### Odkrywanie preferencji, zainteresowań, zwyczajów, opinii i obaw młodych ludzi w celu wskazania różnic i podobieńst pomiędzy życiem w mieście a życiem na wsi\n",
    "\n",
    "#### Zaczniemy od analizy naszego zbioru daych, aby uzyskać pewne informacje na jego temat:"
   ]
  },
  {
   "cell_type": "code",
   "execution_count": 8,
   "metadata": {},
   "outputs": [],
   "source": [
    "import csv\n",
    "import matplotlib.pyplot as plt\n",
    "from utils.math_functions import median, mean, stddev\n",
    "\n",
    "%matplotlib inline\n",
    "\n",
    "response_no = []\n",
    "responders_ages = []\n",
    "\n",
    "\n",
    "def read_age_from_csv():\n",
    "    with open('resources/young-people-survey/responses.csv') as csv_file:\n",
    "        read_csv = csv.reader(csv_file, delimiter=',')\n",
    "        headers = []\n",
    "        headers_read = False\n",
    "        response_idx = 0\n",
    "        for row in read_csv:\n",
    "            if not headers_read:\n",
    "                headers = row\n",
    "                headers_read = True\n",
    "                continue\n",
    "            response_no.append(response_idx)\n",
    "            try:\n",
    "                responders_ages.append(int(row[headers.index(\"Age\")]))\n",
    "            except ValueError:\n",
    "                pass  # or whatever\n",
    "            response_idx += 1\n",
    "\n",
    "read_age_from_csv()"
   ]
  },
  {
   "cell_type": "markdown",
   "metadata": {},
   "source": [
    "Podstawowe wielkości statystyczne opisujące wiek respondentów:"
   ]
  },
  {
   "cell_type": "code",
   "execution_count": 9,
   "metadata": {},
   "outputs": [
    {
     "name": "stdout",
     "output_type": "stream",
     "text": [
      "Average responder age is 20.433699\n",
      "Median of responders age is 20\n",
      "Standard deviation of responders age is 2.827430\n"
     ]
    }
   ],
   "source": [
    "print(\"Average responder age is %f\" % mean(responders_ages))\n",
    "print(\"Median of responders age is %d\" % median(responders_ages))\n",
    "print(\"Standard deviation of responders age is %f\" % stddev(responders_ages))"
   ]
  },
  {
   "cell_type": "markdown",
   "metadata": {},
   "source": [
    "Wykres pudełkowy opisujący wiek respondentów:"
   ]
  },
  {
   "cell_type": "code",
   "execution_count": 10,
   "metadata": {},
   "outputs": [
    {
     "data": {
      "image/png": "[encoded data removed]",
      "text/plain": [
       "<Figure size 432x288 with 1 Axes>"
      ]
     },
     "metadata": {
      "needs_background": "light"
     },
     "output_type": "display_data"
    }
   ],
   "source": [
    "def show_responders_age_box_plot(data):\n",
    "    data_median = median(data)\n",
    "    sub_data_Q1 = list(filter(lambda x: x < data_median, data))\n",
    "    sub_data_Q3 = list(filter(lambda x: x > data_median, data))\n",
    "    Q1 = median(sub_data_Q1)\n",
    "    Q3 = median(sub_data_Q3)\n",
    "    IQR = Q3 - Q1\n",
    "    flier_low = max(min(data), Q1 - 1.5 * IQR)\n",
    "    flier_high = max(min(data), Q3 + 1.5 * IQR)\n",
    "    fig, ax = plt.subplots()\n",
    "    ax.boxplot(data, showfliers=True)\n",
    "    plt.hlines(y=[flier_high, mean(data), Q1, Q3, data_median, flier_low], xmin=0, xmax=1, colors='k',\n",
    "               linestyles='dashed')\n",
    "    plt.yticks([flier_high, Q1, Q3, mean(data), data_median, flier_low])\n",
    "    plt.ylabel(\"age\")\n",
    "    plt.show()\n",
    "\n",
    "show_responders_age_box_plot(responders_ages)"
   ]
  },
  {
   "cell_type": "markdown",
   "metadata": {},
   "source": [
    "Histogram przedstawiający wiek respondentów:"
   ]
  },
  {
   "cell_type": "code",
   "execution_count": 11,
   "metadata": {},
   "outputs": [
    {
     "data": {
      "image/png": "[encoded data removed]",
      "text/plain": [
       "<Figure size 432x288 with 1 Axes>"
      ]
     },
     "metadata": {
      "needs_background": "light"
     },
     "output_type": "display_data"
    }
   ],
   "source": [
    "def show_responders_age_histogram(data, bin_count=40):\n",
    "    plt.title(\"Responders age histogram\")\n",
    "    plt.xlabel(\"age\")\n",
    "    plt.ylabel(\"number of responders at specified age\")\n",
    "    plt.hist(data, bins=bin_count, range=(15, 30))\n",
    "    plt.show()\n",
    "   \n",
    "show_responders_age_histogram(responders_ages)"
   ]
  },
  {
   "cell_type": "code",
   "execution_count": null,
   "metadata": {},
   "outputs": [],
   "source": []
  }
 ],
 "metadata": {
  "kernelspec": {
   "display_name": "Python 3",
   "language": "python",
   "name": "python3"
  },
  "language_info": {
   "codemirror_mode": {
    "name": "ipython",
    "version": 3
   },
   "file_extension": ".py",
   "mimetype": "text/x-python",
   "name": "python",
   "nbconvert_exporter": "python",
   "pygments_lexer": "ipython3",
   "version": "3.5.2"
  }
 },
 "nbformat": 4,
 "nbformat_minor": 2
}
